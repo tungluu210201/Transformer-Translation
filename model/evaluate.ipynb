{
 "cells": [
  {
   "attachments": {},
   "cell_type": "markdown",
   "metadata": {},
   "source": [
    "# **Import Libraries**"
   ]
  },
  {
   "cell_type": "code",
   "execution_count": 2,
   "metadata": {},
   "outputs": [
    {
     "name": "stderr",
     "output_type": "stream",
     "text": [
      "c:\\Python311\\Lib\\site-packages\\tqdm\\auto.py:21: TqdmWarning: IProgress not found. Please update jupyter and ipywidgets. See https://ipywidgets.readthedocs.io/en/stable/user_install.html\n",
      "  from .autonotebook import tqdm as notebook_tqdm\n",
      "[nltk_data] Downloading package wordnet to\n",
      "[nltk_data]     C:\\Users\\Admin\\AppData\\Roaming\\nltk_data...\n",
      "[nltk_data]   Package wordnet is already up-to-date!\n"
     ]
    },
    {
     "data": {
      "text/plain": [
       "True"
      ]
     },
     "execution_count": 2,
     "metadata": {},
     "output_type": "execute_result"
    }
   ],
   "source": [
    "import nltk\n",
    "from nltk.translate import meteor_score\n",
    "from datasets import load_metric\n",
    "from datasets import load_dataset\n",
    "import pandas as pd\n",
    "import json\n",
    "import matplotlib.pyplot as plt\n",
    "\n",
    "nltk.download('wordnet')"
   ]
  },
  {
   "attachments": {},
   "cell_type": "markdown",
   "metadata": {},
   "source": [
    "# **Load Data**"
   ]
  },
  {
   "cell_type": "code",
   "execution_count": 4,
   "metadata": {},
   "outputs": [
    {
     "data": {
      "text/html": [
       "<div>\n",
       "<style scoped>\n",
       "    .dataframe tbody tr th:only-of-type {\n",
       "        vertical-align: middle;\n",
       "    }\n",
       "\n",
       "    .dataframe tbody tr th {\n",
       "        vertical-align: top;\n",
       "    }\n",
       "\n",
       "    .dataframe thead th {\n",
       "        text-align: right;\n",
       "    }\n",
       "</style>\n",
       "<table border=\"1\" class=\"dataframe\">\n",
       "  <thead>\n",
       "    <tr style=\"text-align: right;\">\n",
       "      <th></th>\n",
       "      <th>en</th>\n",
       "      <th>vi</th>\n",
       "      <th>vi_candidate</th>\n",
       "    </tr>\n",
       "  </thead>\n",
       "  <tbody>\n",
       "    <tr>\n",
       "      <th>0</th>\n",
       "      <td>Try to eat whole grains over refined grains .</td>\n",
       "      <td>Bạn nên ăn ngũ cốc nguyên hạt thay cho ngũ cốc...</td>\n",
       "      <td>Bạn nên ăn ngũ cốc nguyên hạt thay vì ngũ cốc ...</td>\n",
       "    </tr>\n",
       "    <tr>\n",
       "      <th>1</th>\n",
       "      <td>It 's also worth noting that although the idea...</td>\n",
       "      <td>Nó sẽ không xứng đáng mặc dù ý kiến dường như ...</td>\n",
       "      <td>Mặc dù ý tưởng này có vẻ trái với chúng ta, nh...</td>\n",
       "    </tr>\n",
       "    <tr>\n",
       "      <th>2</th>\n",
       "      <td>Dampening your skin is a great way to lower yo...</td>\n",
       "      <td>Làm mát da là một cách tuyệt vời để hạ nhiệt đ...</td>\n",
       "      <td>Việc làm ẩm da là một cách tuyệt vời để hạ nhi...</td>\n",
       "    </tr>\n",
       "    <tr>\n",
       "      <th>3</th>\n",
       "      <td>I didn't know why I wasn't supposed to go to t...</td>\n",
       "      <td>tôi không biết tại sao tôi không nên đến một p...</td>\n",
       "      <td>tôi không biết tại sao tôi không nên đến phần ...</td>\n",
       "    </tr>\n",
       "    <tr>\n",
       "      <th>4</th>\n",
       "      <td>Could one have been mixed up for the other ?</td>\n",
       "      <td>Có khi nào hai câu chuyện đã bị nhầm lẫn với n...</td>\n",
       "      <td>Có ai đã hoà trộn được với người kia không?</td>\n",
       "    </tr>\n",
       "    <tr>\n",
       "      <th>...</th>\n",
       "      <td>...</td>\n",
       "      <td>...</td>\n",
       "      <td>...</td>\n",
       "    </tr>\n",
       "    <tr>\n",
       "      <th>4995</th>\n",
       "      <td>Where I live, we have snow in January.</td>\n",
       "      <td>nơi tôi sống, chúng tôi có tuyết vào tháng một.</td>\n",
       "      <td>nơi tôi sống, chúng tôi có tuyết vào tháng một.</td>\n",
       "    </tr>\n",
       "    <tr>\n",
       "      <th>4996</th>\n",
       "      <td>You can 't force people of free will , and I t...</td>\n",
       "      <td>Bạn không thể bắt ép những con người tự do , v...</td>\n",
       "      <td>Anh không thể ép người tự do, và tôi hoàn toàn...</td>\n",
       "    </tr>\n",
       "    <tr>\n",
       "      <th>4997</th>\n",
       "      <td>Whoever did it didn't want us to find out abou...</td>\n",
       "      <td>bất cứ ai đã làm nó không muốn chúng tôi tìm h...</td>\n",
       "      <td>bất cứ ai làm điều đó không muốn chúng tôi tìm...</td>\n",
       "    </tr>\n",
       "    <tr>\n",
       "      <th>4998</th>\n",
       "      <td>It tends to be a lot more work for the celebri...</td>\n",
       "      <td>Điều này khiến người nổi tiếng phải thực hiện ...</td>\n",
       "      <td>Nó có xu hướng làm việc nhiều hơn cho người nổ...</td>\n",
       "    </tr>\n",
       "    <tr>\n",
       "      <th>4999</th>\n",
       "      <td>Understand that the bulk of the treatment is s...</td>\n",
       "      <td>Hiểu rằng việc điều trị chủ yếu là chữa triệu ...</td>\n",
       "      <td>Hiểu rằng sự điều trị là triệu chứng bệnh lý.</td>\n",
       "    </tr>\n",
       "  </tbody>\n",
       "</table>\n",
       "<p>5000 rows × 3 columns</p>\n",
       "</div>"
      ],
      "text/plain": [
       "                                                     en  \\\n",
       "0         Try to eat whole grains over refined grains .   \n",
       "1     It 's also worth noting that although the idea...   \n",
       "2     Dampening your skin is a great way to lower yo...   \n",
       "3     I didn't know why I wasn't supposed to go to t...   \n",
       "4          Could one have been mixed up for the other ?   \n",
       "...                                                 ...   \n",
       "4995             Where I live, we have snow in January.   \n",
       "4996  You can 't force people of free will , and I t...   \n",
       "4997  Whoever did it didn't want us to find out abou...   \n",
       "4998  It tends to be a lot more work for the celebri...   \n",
       "4999  Understand that the bulk of the treatment is s...   \n",
       "\n",
       "                                                     vi  \\\n",
       "0     Bạn nên ăn ngũ cốc nguyên hạt thay cho ngũ cốc...   \n",
       "1     Nó sẽ không xứng đáng mặc dù ý kiến dường như ...   \n",
       "2     Làm mát da là một cách tuyệt vời để hạ nhiệt đ...   \n",
       "3     tôi không biết tại sao tôi không nên đến một p...   \n",
       "4     Có khi nào hai câu chuyện đã bị nhầm lẫn với n...   \n",
       "...                                                 ...   \n",
       "4995    nơi tôi sống, chúng tôi có tuyết vào tháng một.   \n",
       "4996  Bạn không thể bắt ép những con người tự do , v...   \n",
       "4997  bất cứ ai đã làm nó không muốn chúng tôi tìm h...   \n",
       "4998  Điều này khiến người nổi tiếng phải thực hiện ...   \n",
       "4999  Hiểu rằng việc điều trị chủ yếu là chữa triệu ...   \n",
       "\n",
       "                                           vi_candidate  \n",
       "0     Bạn nên ăn ngũ cốc nguyên hạt thay vì ngũ cốc ...  \n",
       "1     Mặc dù ý tưởng này có vẻ trái với chúng ta, nh...  \n",
       "2     Việc làm ẩm da là một cách tuyệt vời để hạ nhi...  \n",
       "3     tôi không biết tại sao tôi không nên đến phần ...  \n",
       "4           Có ai đã hoà trộn được với người kia không?  \n",
       "...                                                 ...  \n",
       "4995    nơi tôi sống, chúng tôi có tuyết vào tháng một.  \n",
       "4996  Anh không thể ép người tự do, và tôi hoàn toàn...  \n",
       "4997  bất cứ ai làm điều đó không muốn chúng tôi tìm...  \n",
       "4998  Nó có xu hướng làm việc nhiều hơn cho người nổ...  \n",
       "4999      Hiểu rằng sự điều trị là triệu chứng bệnh lý.  \n",
       "\n",
       "[5000 rows x 3 columns]"
      ]
     },
     "execution_count": 4,
     "metadata": {},
     "output_type": "execute_result"
    }
   ],
   "source": [
    "val_df = pd.read_csv('D:\\\\HCMUS\\\\StatisticsLearning\\\\Project\\\\data\\\\val_candidate.csv')\n",
    "val_df"
   ]
  },
  {
   "cell_type": "code",
   "execution_count": 19,
   "metadata": {},
   "outputs": [],
   "source": [
    "test_df = pd.read_csv('D:\\\\HCMUS\\\\StatisticsLearning\\\\Project\\\\data\\\\test_candidate.csv')\n",
    "test_df['vi_length'] = test_df['vi'].apply(lambda x: len(x.split()))"
   ]
  },
  {
   "cell_type": "code",
   "execution_count": 5,
   "metadata": {},
   "outputs": [
    {
     "data": {
      "text/html": [
       "<div>\n",
       "<style scoped>\n",
       "    .dataframe tbody tr th:only-of-type {\n",
       "        vertical-align: middle;\n",
       "    }\n",
       "\n",
       "    .dataframe tbody tr th {\n",
       "        vertical-align: top;\n",
       "    }\n",
       "\n",
       "    .dataframe thead th {\n",
       "        text-align: right;\n",
       "    }\n",
       "</style>\n",
       "<table border=\"1\" class=\"dataframe\">\n",
       "  <thead>\n",
       "    <tr style=\"text-align: right;\">\n",
       "      <th></th>\n",
       "      <th>en</th>\n",
       "      <th>vi</th>\n",
       "      <th>vi_candidate</th>\n",
       "      <th>vi_length</th>\n",
       "    </tr>\n",
       "  </thead>\n",
       "  <tbody>\n",
       "    <tr>\n",
       "      <th>0</th>\n",
       "      <td>Try to eat whole grains over refined grains .</td>\n",
       "      <td>Bạn nên ăn ngũ cốc nguyên hạt thay cho ngũ cốc...</td>\n",
       "      <td>Bạn nên ăn ngũ cốc nguyên hạt thay vì ngũ cốc ...</td>\n",
       "      <td>14</td>\n",
       "    </tr>\n",
       "    <tr>\n",
       "      <th>1</th>\n",
       "      <td>It 's also worth noting that although the idea...</td>\n",
       "      <td>Nó sẽ không xứng đáng mặc dù ý kiến dường như ...</td>\n",
       "      <td>Mặc dù ý tưởng này có vẻ trái với chúng ta, nh...</td>\n",
       "      <td>51</td>\n",
       "    </tr>\n",
       "    <tr>\n",
       "      <th>2</th>\n",
       "      <td>Dampening your skin is a great way to lower yo...</td>\n",
       "      <td>Làm mát da là một cách tuyệt vời để hạ nhiệt đ...</td>\n",
       "      <td>Việc làm ẩm da là một cách tuyệt vời để hạ nhi...</td>\n",
       "      <td>30</td>\n",
       "    </tr>\n",
       "    <tr>\n",
       "      <th>3</th>\n",
       "      <td>I didn't know why I wasn't supposed to go to t...</td>\n",
       "      <td>tôi không biết tại sao tôi không nên đến một p...</td>\n",
       "      <td>tôi không biết tại sao tôi không nên đến phần ...</td>\n",
       "      <td>14</td>\n",
       "    </tr>\n",
       "    <tr>\n",
       "      <th>4</th>\n",
       "      <td>Could one have been mixed up for the other ?</td>\n",
       "      <td>Có khi nào hai câu chuyện đã bị nhầm lẫn với n...</td>\n",
       "      <td>Có ai đã hoà trộn được với người kia không?</td>\n",
       "      <td>13</td>\n",
       "    </tr>\n",
       "  </tbody>\n",
       "</table>\n",
       "</div>"
      ],
      "text/plain": [
       "                                                  en  \\\n",
       "0      Try to eat whole grains over refined grains .   \n",
       "1  It 's also worth noting that although the idea...   \n",
       "2  Dampening your skin is a great way to lower yo...   \n",
       "3  I didn't know why I wasn't supposed to go to t...   \n",
       "4       Could one have been mixed up for the other ?   \n",
       "\n",
       "                                                  vi  \\\n",
       "0  Bạn nên ăn ngũ cốc nguyên hạt thay cho ngũ cốc...   \n",
       "1  Nó sẽ không xứng đáng mặc dù ý kiến dường như ...   \n",
       "2  Làm mát da là một cách tuyệt vời để hạ nhiệt đ...   \n",
       "3  tôi không biết tại sao tôi không nên đến một p...   \n",
       "4  Có khi nào hai câu chuyện đã bị nhầm lẫn với n...   \n",
       "\n",
       "                                        vi_candidate  vi_length  \n",
       "0  Bạn nên ăn ngũ cốc nguyên hạt thay vì ngũ cốc ...         14  \n",
       "1  Mặc dù ý tưởng này có vẻ trái với chúng ta, nh...         51  \n",
       "2  Việc làm ẩm da là một cách tuyệt vời để hạ nhi...         30  \n",
       "3  tôi không biết tại sao tôi không nên đến phần ...         14  \n",
       "4        Có ai đã hoà trộn được với người kia không?         13  "
      ]
     },
     "execution_count": 5,
     "metadata": {},
     "output_type": "execute_result"
    }
   ],
   "source": [
    "val_df['vi_length'] = val_df['vi'].apply(lambda x: len(x.split()))\n",
    "val_df.head()"
   ]
  },
  {
   "attachments": {},
   "cell_type": "markdown",
   "metadata": {},
   "source": [
    "# **Evaluate**"
   ]
  },
  {
   "attachments": {},
   "cell_type": "markdown",
   "metadata": {},
   "source": [
    "## *1. Loss*"
   ]
  },
  {
   "cell_type": "code",
   "execution_count": 9,
   "metadata": {},
   "outputs": [],
   "source": [
    "with open('D:\\\\HCMUS\\\\StatisticsLearning\\\\Project\\\\result\\\\loss.json', 'r') as f:\n",
    "    data = json.load(f)\n",
    "\n",
    "train_loss = data['train_loss']\n",
    "val_loss = data['val_loss']\n",
    "\n",
    "epochs = list(range(1, len(train_loss) + 1))"
   ]
  },
  {
   "cell_type": "code",
   "execution_count": 10,
   "metadata": {},
   "outputs": [
    {
     "data": {
      "image/png": "[encoded data removed]",
      "text/plain": [
       "<Figure size 640x480 with 1 Axes>"
      ]
     },
     "metadata": {},
     "output_type": "display_data"
    }
   ],
   "source": [
    "plt.plot(epochs, train_loss, label='Train Loss')\n",
    "plt.plot(epochs, val_loss, label='Validation Loss')\n",
    "\n",
    "plt.title('Train Loss vs. Validation Loss')\n",
    "plt.xlabel('Epoch')\n",
    "plt.ylabel('Loss')\n",
    "\n",
    "x_ticks = list(range(1, len(epochs) + 1))\n",
    "plt.xticks(x_ticks) \n",
    "plt.legend()\n",
    "\n",
    "plt.show()"
   ]
  },
  {
   "attachments": {},
   "cell_type": "markdown",
   "metadata": {},
   "source": [
    "## *2. Bleu Score*"
   ]
  },
  {
   "cell_type": "code",
   "execution_count": 7,
   "metadata": {},
   "outputs": [],
   "source": [
    "def bleu_score(reference, candidate):\n",
    "    N = min(4,len(candidate.split()))\n",
    "    weights = tuple(1/N for i in range(N))\n",
    "    bleu = nltk.translate.bleu_score.sentence_bleu(references=[reference.split()], hypothesis=candidate.split(), weights=weights)\n",
    "    \n",
    "    return bleu"
   ]
  },
  {
   "cell_type": "code",
   "execution_count": 8,
   "metadata": {},
   "outputs": [
    {
     "name": "stderr",
     "output_type": "stream",
     "text": [
      "c:\\Python311\\Lib\\site-packages\\nltk\\translate\\bleu_score.py:552: UserWarning: \n",
      "The hypothesis contains 0 counts of 2-gram overlaps.\n",
      "Therefore the BLEU score evaluates to 0, independently of\n",
      "how many N-gram overlaps of lower order it contains.\n",
      "Consider using lower n-gram order or use SmoothingFunction()\n",
      "  warnings.warn(_msg)\n",
      "c:\\Python311\\Lib\\site-packages\\nltk\\translate\\bleu_score.py:552: UserWarning: \n",
      "The hypothesis contains 0 counts of 3-gram overlaps.\n",
      "Therefore the BLEU score evaluates to 0, independently of\n",
      "how many N-gram overlaps of lower order it contains.\n",
      "Consider using lower n-gram order or use SmoothingFunction()\n",
      "  warnings.warn(_msg)\n",
      "c:\\Python311\\Lib\\site-packages\\nltk\\translate\\bleu_score.py:552: UserWarning: \n",
      "The hypothesis contains 0 counts of 4-gram overlaps.\n",
      "Therefore the BLEU score evaluates to 0, independently of\n",
      "how many N-gram overlaps of lower order it contains.\n",
      "Consider using lower n-gram order or use SmoothingFunction()\n",
      "  warnings.warn(_msg)\n"
     ]
    }
   ],
   "source": [
    "val_df['bleu_score'] = val_df.apply(lambda row: bleu_score(row['vi'], row['vi_candidate']), axis=1)"
   ]
  },
  {
   "cell_type": "code",
   "execution_count": 20,
   "metadata": {},
   "outputs": [
    {
     "name": "stderr",
     "output_type": "stream",
     "text": [
      "c:\\Python311\\Lib\\site-packages\\nltk\\translate\\bleu_score.py:552: UserWarning: \n",
      "The hypothesis contains 0 counts of 3-gram overlaps.\n",
      "Therefore the BLEU score evaluates to 0, independently of\n",
      "how many N-gram overlaps of lower order it contains.\n",
      "Consider using lower n-gram order or use SmoothingFunction()\n",
      "  warnings.warn(_msg)\n",
      "c:\\Python311\\Lib\\site-packages\\nltk\\translate\\bleu_score.py:552: UserWarning: \n",
      "The hypothesis contains 0 counts of 4-gram overlaps.\n",
      "Therefore the BLEU score evaluates to 0, independently of\n",
      "how many N-gram overlaps of lower order it contains.\n",
      "Consider using lower n-gram order or use SmoothingFunction()\n",
      "  warnings.warn(_msg)\n",
      "c:\\Python311\\Lib\\site-packages\\nltk\\translate\\bleu_score.py:552: UserWarning: \n",
      "The hypothesis contains 0 counts of 2-gram overlaps.\n",
      "Therefore the BLEU score evaluates to 0, independently of\n",
      "how many N-gram overlaps of lower order it contains.\n",
      "Consider using lower n-gram order or use SmoothingFunction()\n",
      "  warnings.warn(_msg)\n"
     ]
    }
   ],
   "source": [
    "test_df['bleu_score'] = test_df.apply(lambda row: bleu_score(row['vi'], row['vi_candidate']), axis=1)"
   ]
  },
  {
   "cell_type": "code",
   "execution_count": 9,
   "metadata": {},
   "outputs": [
    {
     "data": {
      "text/html": [
       "<div>\n",
       "<style scoped>\n",
       "    .dataframe tbody tr th:only-of-type {\n",
       "        vertical-align: middle;\n",
       "    }\n",
       "\n",
       "    .dataframe tbody tr th {\n",
       "        vertical-align: top;\n",
       "    }\n",
       "\n",
       "    .dataframe thead th {\n",
       "        text-align: right;\n",
       "    }\n",
       "</style>\n",
       "<table border=\"1\" class=\"dataframe\">\n",
       "  <thead>\n",
       "    <tr style=\"text-align: right;\">\n",
       "      <th></th>\n",
       "      <th>en</th>\n",
       "      <th>vi</th>\n",
       "      <th>vi_candidate</th>\n",
       "      <th>vi_length</th>\n",
       "      <th>bleu_score</th>\n",
       "    </tr>\n",
       "  </thead>\n",
       "  <tbody>\n",
       "    <tr>\n",
       "      <th>0</th>\n",
       "      <td>Try to eat whole grains over refined grains .</td>\n",
       "      <td>Bạn nên ăn ngũ cốc nguyên hạt thay cho ngũ cốc...</td>\n",
       "      <td>Bạn nên ăn ngũ cốc nguyên hạt thay vì ngũ cốc ...</td>\n",
       "      <td>14</td>\n",
       "      <td>6.207107e-01</td>\n",
       "    </tr>\n",
       "    <tr>\n",
       "      <th>1</th>\n",
       "      <td>It 's also worth noting that although the idea...</td>\n",
       "      <td>Nó sẽ không xứng đáng mặc dù ý kiến dường như ...</td>\n",
       "      <td>Mặc dù ý tưởng này có vẻ trái với chúng ta, nh...</td>\n",
       "      <td>51</td>\n",
       "      <td>1.207569e-01</td>\n",
       "    </tr>\n",
       "    <tr>\n",
       "      <th>2</th>\n",
       "      <td>Dampening your skin is a great way to lower yo...</td>\n",
       "      <td>Làm mát da là một cách tuyệt vời để hạ nhiệt đ...</td>\n",
       "      <td>Việc làm ẩm da là một cách tuyệt vời để hạ nhi...</td>\n",
       "      <td>30</td>\n",
       "      <td>3.870720e-01</td>\n",
       "    </tr>\n",
       "    <tr>\n",
       "      <th>3</th>\n",
       "      <td>I didn't know why I wasn't supposed to go to t...</td>\n",
       "      <td>tôi không biết tại sao tôi không nên đến một p...</td>\n",
       "      <td>tôi không biết tại sao tôi không nên đến phần ...</td>\n",
       "      <td>14</td>\n",
       "      <td>7.138958e-01</td>\n",
       "    </tr>\n",
       "    <tr>\n",
       "      <th>4</th>\n",
       "      <td>Could one have been mixed up for the other ?</td>\n",
       "      <td>Có khi nào hai câu chuyện đã bị nhầm lẫn với n...</td>\n",
       "      <td>Có ai đã hoà trộn được với người kia không?</td>\n",
       "      <td>13</td>\n",
       "      <td>9.988500e-232</td>\n",
       "    </tr>\n",
       "    <tr>\n",
       "      <th>...</th>\n",
       "      <td>...</td>\n",
       "      <td>...</td>\n",
       "      <td>...</td>\n",
       "      <td>...</td>\n",
       "      <td>...</td>\n",
       "    </tr>\n",
       "    <tr>\n",
       "      <th>4995</th>\n",
       "      <td>Where I live, we have snow in January.</td>\n",
       "      <td>nơi tôi sống, chúng tôi có tuyết vào tháng một.</td>\n",
       "      <td>nơi tôi sống, chúng tôi có tuyết vào tháng một.</td>\n",
       "      <td>10</td>\n",
       "      <td>1.000000e+00</td>\n",
       "    </tr>\n",
       "    <tr>\n",
       "      <th>4996</th>\n",
       "      <td>You can 't force people of free will , and I t...</td>\n",
       "      <td>Bạn không thể bắt ép những con người tự do , v...</td>\n",
       "      <td>Anh không thể ép người tự do, và tôi hoàn toàn...</td>\n",
       "      <td>20</td>\n",
       "      <td>3.525531e-01</td>\n",
       "    </tr>\n",
       "    <tr>\n",
       "      <th>4997</th>\n",
       "      <td>Whoever did it didn't want us to find out abou...</td>\n",
       "      <td>bất cứ ai đã làm nó không muốn chúng tôi tìm h...</td>\n",
       "      <td>bất cứ ai làm điều đó không muốn chúng tôi tìm...</td>\n",
       "      <td>14</td>\n",
       "      <td>6.298130e-01</td>\n",
       "    </tr>\n",
       "    <tr>\n",
       "      <th>4998</th>\n",
       "      <td>It tends to be a lot more work for the celebri...</td>\n",
       "      <td>Điều này khiến người nổi tiếng phải thực hiện ...</td>\n",
       "      <td>Nó có xu hướng làm việc nhiều hơn cho người nổ...</td>\n",
       "      <td>14</td>\n",
       "      <td>5.268189e-155</td>\n",
       "    </tr>\n",
       "    <tr>\n",
       "      <th>4999</th>\n",
       "      <td>Understand that the bulk of the treatment is s...</td>\n",
       "      <td>Hiểu rằng việc điều trị chủ yếu là chữa triệu ...</td>\n",
       "      <td>Hiểu rằng sự điều trị là triệu chứng bệnh lý.</td>\n",
       "      <td>12</td>\n",
       "      <td>8.488042e-155</td>\n",
       "    </tr>\n",
       "  </tbody>\n",
       "</table>\n",
       "<p>5000 rows × 5 columns</p>\n",
       "</div>"
      ],
      "text/plain": [
       "                                                     en  \\\n",
       "0         Try to eat whole grains over refined grains .   \n",
       "1     It 's also worth noting that although the idea...   \n",
       "2     Dampening your skin is a great way to lower yo...   \n",
       "3     I didn't know why I wasn't supposed to go to t...   \n",
       "4          Could one have been mixed up for the other ?   \n",
       "...                                                 ...   \n",
       "4995             Where I live, we have snow in January.   \n",
       "4996  You can 't force people of free will , and I t...   \n",
       "4997  Whoever did it didn't want us to find out abou...   \n",
       "4998  It tends to be a lot more work for the celebri...   \n",
       "4999  Understand that the bulk of the treatment is s...   \n",
       "\n",
       "                                                     vi  \\\n",
       "0     Bạn nên ăn ngũ cốc nguyên hạt thay cho ngũ cốc...   \n",
       "1     Nó sẽ không xứng đáng mặc dù ý kiến dường như ...   \n",
       "2     Làm mát da là một cách tuyệt vời để hạ nhiệt đ...   \n",
       "3     tôi không biết tại sao tôi không nên đến một p...   \n",
       "4     Có khi nào hai câu chuyện đã bị nhầm lẫn với n...   \n",
       "...                                                 ...   \n",
       "4995    nơi tôi sống, chúng tôi có tuyết vào tháng một.   \n",
       "4996  Bạn không thể bắt ép những con người tự do , v...   \n",
       "4997  bất cứ ai đã làm nó không muốn chúng tôi tìm h...   \n",
       "4998  Điều này khiến người nổi tiếng phải thực hiện ...   \n",
       "4999  Hiểu rằng việc điều trị chủ yếu là chữa triệu ...   \n",
       "\n",
       "                                           vi_candidate  vi_length  \\\n",
       "0     Bạn nên ăn ngũ cốc nguyên hạt thay vì ngũ cốc ...         14   \n",
       "1     Mặc dù ý tưởng này có vẻ trái với chúng ta, nh...         51   \n",
       "2     Việc làm ẩm da là một cách tuyệt vời để hạ nhi...         30   \n",
       "3     tôi không biết tại sao tôi không nên đến phần ...         14   \n",
       "4           Có ai đã hoà trộn được với người kia không?         13   \n",
       "...                                                 ...        ...   \n",
       "4995    nơi tôi sống, chúng tôi có tuyết vào tháng một.         10   \n",
       "4996  Anh không thể ép người tự do, và tôi hoàn toàn...         20   \n",
       "4997  bất cứ ai làm điều đó không muốn chúng tôi tìm...         14   \n",
       "4998  Nó có xu hướng làm việc nhiều hơn cho người nổ...         14   \n",
       "4999      Hiểu rằng sự điều trị là triệu chứng bệnh lý.         12   \n",
       "\n",
       "         bleu_score  \n",
       "0      6.207107e-01  \n",
       "1      1.207569e-01  \n",
       "2      3.870720e-01  \n",
       "3      7.138958e-01  \n",
       "4     9.988500e-232  \n",
       "...             ...  \n",
       "4995   1.000000e+00  \n",
       "4996   3.525531e-01  \n",
       "4997   6.298130e-01  \n",
       "4998  5.268189e-155  \n",
       "4999  8.488042e-155  \n",
       "\n",
       "[5000 rows x 5 columns]"
      ]
     },
     "execution_count": 9,
     "metadata": {},
     "output_type": "execute_result"
    }
   ],
   "source": [
    "val_df"
   ]
  },
  {
   "cell_type": "code",
   "execution_count": 24,
   "metadata": {},
   "outputs": [
    {
     "data": {
      "image/png": "[encoded data removed]",
      "text/plain": [
       "<Figure size 640x480 with 1 Axes>"
      ]
     },
     "metadata": {},
     "output_type": "display_data"
    }
   ],
   "source": [
    "# Vẽ biểu đồ cột\n",
    "plt.bar(val_df['vi_length'], val_df['bleu_score'])\n",
    "plt.xlabel('vi_length')\n",
    "plt.ylabel('bleu_score')\n",
    "plt.title('Mối quan hệ giữa vi_length và bleu_score tập validation')\n",
    "plt.show()"
   ]
  },
  {
   "cell_type": "code",
   "execution_count": 26,
   "metadata": {},
   "outputs": [
    {
     "data": {
      "image/png": "[encoded data removed]",
      "text/plain": [
       "<Figure size 640x480 with 1 Axes>"
      ]
     },
     "metadata": {},
     "output_type": "display_data"
    }
   ],
   "source": [
    "# Vẽ biểu đồ cột\n",
    "plt.bar(test_df['vi_length'], test_df['bleu_score'])\n",
    "plt.xlabel('vi_length')\n",
    "plt.ylabel('bleu_score')\n",
    "plt.title('Mối quan hệ giữa vi_length và bleu_score tập test')\n",
    "plt.show()"
   ]
  },
  {
   "attachments": {},
   "cell_type": "markdown",
   "metadata": {},
   "source": [
    "## *3. METEOR Score*"
   ]
  },
  {
   "cell_type": "code",
   "execution_count": 11,
   "metadata": {},
   "outputs": [],
   "source": [
    "def cal_meteor_score(reference, candidate):\n",
    "    meteor = meteor_score.meteor_score([reference.split()], candidate.split())\n",
    "    return meteor"
   ]
  },
  {
   "cell_type": "code",
   "execution_count": null,
   "metadata": {},
   "outputs": [],
   "source": [
    "reference = 'The cat is on the mat'\n",
    "candidate = 'Here is the cat mat'\n",
    "\n",
    "score = cal_meteor_score(reference, candidate)\n",
    "print('METEOR score:', score)"
   ]
  },
  {
   "cell_type": "code",
   "execution_count": 12,
   "metadata": {},
   "outputs": [],
   "source": [
    "val_df['meteor'] = val_df.apply(lambda row: cal_meteor_score(row['vi'], row['vi_candidate']), axis=1)"
   ]
  },
  {
   "cell_type": "code",
   "execution_count": 22,
   "metadata": {},
   "outputs": [],
   "source": [
    "test_df['meteor'] = test_df.apply(lambda row: cal_meteor_score(row['vi'], row['vi_candidate']), axis=1)"
   ]
  },
  {
   "cell_type": "code",
   "execution_count": 13,
   "metadata": {},
   "outputs": [
    {
     "data": {
      "text/html": [
       "<div>\n",
       "<style scoped>\n",
       "    .dataframe tbody tr th:only-of-type {\n",
       "        vertical-align: middle;\n",
       "    }\n",
       "\n",
       "    .dataframe tbody tr th {\n",
       "        vertical-align: top;\n",
       "    }\n",
       "\n",
       "    .dataframe thead th {\n",
       "        text-align: right;\n",
       "    }\n",
       "</style>\n",
       "<table border=\"1\" class=\"dataframe\">\n",
       "  <thead>\n",
       "    <tr style=\"text-align: right;\">\n",
       "      <th></th>\n",
       "      <th>en</th>\n",
       "      <th>vi</th>\n",
       "      <th>vi_candidate</th>\n",
       "      <th>vi_length</th>\n",
       "      <th>bleu_score</th>\n",
       "      <th>meteor</th>\n",
       "    </tr>\n",
       "  </thead>\n",
       "  <tbody>\n",
       "    <tr>\n",
       "      <th>0</th>\n",
       "      <td>Try to eat whole grains over refined grains .</td>\n",
       "      <td>Bạn nên ăn ngũ cốc nguyên hạt thay cho ngũ cốc...</td>\n",
       "      <td>Bạn nên ăn ngũ cốc nguyên hạt thay vì ngũ cốc ...</td>\n",
       "      <td>14</td>\n",
       "      <td>6.207107e-01</td>\n",
       "      <td>0.788989</td>\n",
       "    </tr>\n",
       "    <tr>\n",
       "      <th>1</th>\n",
       "      <td>It 's also worth noting that although the idea...</td>\n",
       "      <td>Nó sẽ không xứng đáng mặc dù ý kiến dường như ...</td>\n",
       "      <td>Mặc dù ý tưởng này có vẻ trái với chúng ta, nh...</td>\n",
       "      <td>51</td>\n",
       "      <td>1.207569e-01</td>\n",
       "      <td>0.340300</td>\n",
       "    </tr>\n",
       "    <tr>\n",
       "      <th>2</th>\n",
       "      <td>Dampening your skin is a great way to lower yo...</td>\n",
       "      <td>Làm mát da là một cách tuyệt vời để hạ nhiệt đ...</td>\n",
       "      <td>Việc làm ẩm da là một cách tuyệt vời để hạ nhi...</td>\n",
       "      <td>30</td>\n",
       "      <td>3.870720e-01</td>\n",
       "      <td>0.584304</td>\n",
       "    </tr>\n",
       "    <tr>\n",
       "      <th>3</th>\n",
       "      <td>I didn't know why I wasn't supposed to go to t...</td>\n",
       "      <td>tôi không biết tại sao tôi không nên đến một p...</td>\n",
       "      <td>tôi không biết tại sao tôi không nên đến phần ...</td>\n",
       "      <td>14</td>\n",
       "      <td>7.138958e-01</td>\n",
       "      <td>0.922866</td>\n",
       "    </tr>\n",
       "    <tr>\n",
       "      <th>4</th>\n",
       "      <td>Could one have been mixed up for the other ?</td>\n",
       "      <td>Có khi nào hai câu chuyện đã bị nhầm lẫn với n...</td>\n",
       "      <td>Có ai đã hoà trộn được với người kia không?</td>\n",
       "      <td>13</td>\n",
       "      <td>9.988500e-232</td>\n",
       "      <td>0.118110</td>\n",
       "    </tr>\n",
       "    <tr>\n",
       "      <th>...</th>\n",
       "      <td>...</td>\n",
       "      <td>...</td>\n",
       "      <td>...</td>\n",
       "      <td>...</td>\n",
       "      <td>...</td>\n",
       "      <td>...</td>\n",
       "    </tr>\n",
       "    <tr>\n",
       "      <th>4995</th>\n",
       "      <td>Where I live, we have snow in January.</td>\n",
       "      <td>nơi tôi sống, chúng tôi có tuyết vào tháng một.</td>\n",
       "      <td>nơi tôi sống, chúng tôi có tuyết vào tháng một.</td>\n",
       "      <td>10</td>\n",
       "      <td>1.000000e+00</td>\n",
       "      <td>0.999500</td>\n",
       "    </tr>\n",
       "    <tr>\n",
       "      <th>4996</th>\n",
       "      <td>You can 't force people of free will , and I t...</td>\n",
       "      <td>Bạn không thể bắt ép những con người tự do , v...</td>\n",
       "      <td>Anh không thể ép người tự do, và tôi hoàn toàn...</td>\n",
       "      <td>20</td>\n",
       "      <td>3.525531e-01</td>\n",
       "      <td>0.603989</td>\n",
       "    </tr>\n",
       "    <tr>\n",
       "      <th>4997</th>\n",
       "      <td>Whoever did it didn't want us to find out abou...</td>\n",
       "      <td>bất cứ ai đã làm nó không muốn chúng tôi tìm h...</td>\n",
       "      <td>bất cứ ai làm điều đó không muốn chúng tôi tìm...</td>\n",
       "      <td>14</td>\n",
       "      <td>6.298130e-01</td>\n",
       "      <td>0.850446</td>\n",
       "    </tr>\n",
       "    <tr>\n",
       "      <th>4998</th>\n",
       "      <td>It tends to be a lot more work for the celebri...</td>\n",
       "      <td>Điều này khiến người nổi tiếng phải thực hiện ...</td>\n",
       "      <td>Nó có xu hướng làm việc nhiều hơn cho người nổ...</td>\n",
       "      <td>14</td>\n",
       "      <td>5.268189e-155</td>\n",
       "      <td>0.228714</td>\n",
       "    </tr>\n",
       "    <tr>\n",
       "      <th>4999</th>\n",
       "      <td>Understand that the bulk of the treatment is s...</td>\n",
       "      <td>Hiểu rằng việc điều trị chủ yếu là chữa triệu ...</td>\n",
       "      <td>Hiểu rằng sự điều trị là triệu chứng bệnh lý.</td>\n",
       "      <td>12</td>\n",
       "      <td>8.488042e-155</td>\n",
       "      <td>0.537876</td>\n",
       "    </tr>\n",
       "  </tbody>\n",
       "</table>\n",
       "<p>5000 rows × 6 columns</p>\n",
       "</div>"
      ],
      "text/plain": [
       "                                                     en  \\\n",
       "0         Try to eat whole grains over refined grains .   \n",
       "1     It 's also worth noting that although the idea...   \n",
       "2     Dampening your skin is a great way to lower yo...   \n",
       "3     I didn't know why I wasn't supposed to go to t...   \n",
       "4          Could one have been mixed up for the other ?   \n",
       "...                                                 ...   \n",
       "4995             Where I live, we have snow in January.   \n",
       "4996  You can 't force people of free will , and I t...   \n",
       "4997  Whoever did it didn't want us to find out abou...   \n",
       "4998  It tends to be a lot more work for the celebri...   \n",
       "4999  Understand that the bulk of the treatment is s...   \n",
       "\n",
       "                                                     vi  \\\n",
       "0     Bạn nên ăn ngũ cốc nguyên hạt thay cho ngũ cốc...   \n",
       "1     Nó sẽ không xứng đáng mặc dù ý kiến dường như ...   \n",
       "2     Làm mát da là một cách tuyệt vời để hạ nhiệt đ...   \n",
       "3     tôi không biết tại sao tôi không nên đến một p...   \n",
       "4     Có khi nào hai câu chuyện đã bị nhầm lẫn với n...   \n",
       "...                                                 ...   \n",
       "4995    nơi tôi sống, chúng tôi có tuyết vào tháng một.   \n",
       "4996  Bạn không thể bắt ép những con người tự do , v...   \n",
       "4997  bất cứ ai đã làm nó không muốn chúng tôi tìm h...   \n",
       "4998  Điều này khiến người nổi tiếng phải thực hiện ...   \n",
       "4999  Hiểu rằng việc điều trị chủ yếu là chữa triệu ...   \n",
       "\n",
       "                                           vi_candidate  vi_length  \\\n",
       "0     Bạn nên ăn ngũ cốc nguyên hạt thay vì ngũ cốc ...         14   \n",
       "1     Mặc dù ý tưởng này có vẻ trái với chúng ta, nh...         51   \n",
       "2     Việc làm ẩm da là một cách tuyệt vời để hạ nhi...         30   \n",
       "3     tôi không biết tại sao tôi không nên đến phần ...         14   \n",
       "4           Có ai đã hoà trộn được với người kia không?         13   \n",
       "...                                                 ...        ...   \n",
       "4995    nơi tôi sống, chúng tôi có tuyết vào tháng một.         10   \n",
       "4996  Anh không thể ép người tự do, và tôi hoàn toàn...         20   \n",
       "4997  bất cứ ai làm điều đó không muốn chúng tôi tìm...         14   \n",
       "4998  Nó có xu hướng làm việc nhiều hơn cho người nổ...         14   \n",
       "4999      Hiểu rằng sự điều trị là triệu chứng bệnh lý.         12   \n",
       "\n",
       "         bleu_score    meteor  \n",
       "0      6.207107e-01  0.788989  \n",
       "1      1.207569e-01  0.340300  \n",
       "2      3.870720e-01  0.584304  \n",
       "3      7.138958e-01  0.922866  \n",
       "4     9.988500e-232  0.118110  \n",
       "...             ...       ...  \n",
       "4995   1.000000e+00  0.999500  \n",
       "4996   3.525531e-01  0.603989  \n",
       "4997   6.298130e-01  0.850446  \n",
       "4998  5.268189e-155  0.228714  \n",
       "4999  8.488042e-155  0.537876  \n",
       "\n",
       "[5000 rows x 6 columns]"
      ]
     },
     "execution_count": 13,
     "metadata": {},
     "output_type": "execute_result"
    }
   ],
   "source": [
    "val_df"
   ]
  },
  {
   "cell_type": "code",
   "execution_count": 27,
   "metadata": {},
   "outputs": [
    {
     "data": {
      "image/png": "[encoded data removed]",
      "text/plain": [
       "<Figure size 640x480 with 1 Axes>"
      ]
     },
     "metadata": {},
     "output_type": "display_data"
    }
   ],
   "source": [
    "# Vẽ biểu đồ cột\n",
    "plt.bar(val_df['vi_length'], val_df['meteor'])\n",
    "plt.xlabel('vi_length')\n",
    "plt.ylabel('meteor_score')\n",
    "plt.title('Mối quan hệ giữa vi_length và meteor_score tập validation')\n",
    "plt.show()"
   ]
  },
  {
   "cell_type": "code",
   "execution_count": 28,
   "metadata": {},
   "outputs": [
    {
     "data": {
      "image/png": "[encoded data removed]",
      "text/plain": [
       "<Figure size 640x480 with 1 Axes>"
      ]
     },
     "metadata": {},
     "output_type": "display_data"
    }
   ],
   "source": [
    "# Vẽ biểu đồ cột\n",
    "plt.bar(test_df['vi_length'], test_df['meteor'])\n",
    "plt.xlabel('vi_length')\n",
    "plt.ylabel('meteor_score')\n",
    "plt.title('Mối quan hệ giữa vi_length và meteor_score tập test')\n",
    "plt.show()"
   ]
  }
 ],
 "metadata": {
  "kernelspec": {
   "display_name": "Python 3",
   "language": "python",
   "name": "python3"
  },
  "language_info": {
   "codemirror_mode": {
    "name": "ipython",
    "version": 3
   },
   "file_extension": ".py",
   "mimetype": "text/x-python",
   "name": "python",
   "nbconvert_exporter": "python",
   "pygments_lexer": "ipython3",
   "version": "3.11.0"
  },
  "orig_nbformat": 4
 },
 "nbformat": 4,
 "nbformat_minor": 2
}
